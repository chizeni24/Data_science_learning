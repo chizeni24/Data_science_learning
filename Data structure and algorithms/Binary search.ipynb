{
 "cells": [
  {
   "cell_type": "markdown",
   "metadata": {},
   "source": [
    "# Binary Search "
   ]
  },
  {
   "cell_type": "markdown",
   "metadata": {},
   "source": [
    "Binary search takes a sorted list N as an input and value T to return the true or false if the value is present.\n"
   ]
  },
  {
   "cell_type": "code",
   "execution_count": 47,
   "metadata": {},
   "outputs": [],
   "source": [
    "def Binarysearch(arr, target):\n",
    "    \"\"\"Binary search algorithm - It takes an input array\n",
    "        to return the given target value \"\"\" \n",
    "    low = 0  \n",
    "    high = len(arr) - 1 \n",
    "    \n",
    "    while low <= high: \n",
    "        mid = (low + high)//2\n",
    "        guess = arr[mid]\n",
    "        print(\"mid\",arr[mid])\n",
    "        if guess == target: \n",
    "            return print('hereee',arr[mid])\n",
    "        if guess > target:\n",
    "            high = mid - 1 \n",
    "        else: \n",
    "            low = mid + 1\n",
    "\n",
    "    return None\n"
   ]
  },
  {
   "cell_type": "markdown",
   "metadata": {},
   "source": [
    "## Big O notation "
   ]
  },
  {
   "cell_type": "markdown",
   "metadata": {},
   "source": [
    "It represents the number of operations to with respect to time or space. \n",
    "- O(log n), also known as log time. Example: Binary search.\n",
    "- O(n), also known as linear time. Example: Simple search.\n",
    "- O(n * log n). Example: A fast sorting algorithm, like quicksort\n",
    "(coming up in chapter 4).\n",
    "- O(n 2). Example: A slow sorting algorithm, like selection sort\n",
    "(coming up in chapter 2).\n",
    "- O(n!). Example: A really slow algorithm, like the traveling\n",
    "salesperson(coming up next!).\n",
    "\n"
   ]
  },
  {
   "cell_type": "markdown",
   "metadata": {},
   "source": [
    "given 1 second to run 10 operation. what is the time it takes for the different algorithms to complete ..... ``"
   ]
  },
  {
   "cell_type": "markdown",
   "metadata": {},
   "source": [
    "### Example"
   ]
  },
  {
   "cell_type": "markdown",
   "metadata": {},
   "source": [
    "Binarysearch([1,3,5,7,9,32,45,66,90,93,97,100,129,789,799,800,832],3 )"
   ]
  },
  {
   "cell_type": "code",
   "execution_count": null,
   "metadata": {},
   "outputs": [],
   "source": [
    "def subArraySum(self,arr, n, s): \n",
    "    low = 0\n",
    "    high = 0\n",
    "    sum = 0\n",
    "    Found = False\n",
    "    if s in arr:\n",
    "        Found = True\n",
    "        val =  [arr.index(s)+1,arr.index(s)+1]\n",
    "        \n",
    "    while high<n and low>=0:\n",
    "        if sum<s:\n",
    "            sum+=arr[high]\n",
    "            high+=1\n",
    "        if sum>s:\n",
    "            sum-=arr[low]\n",
    "            low+=1\n",
    "        if sum==s:\n",
    "            if Found:\n",
    "                if val[0]>low+1:\n",
    "                    return [low+1,high]\n",
    "                else:\n",
    "                    return val\n",
    "            else:\n",
    "                return [low+1,high]\n",
    "            \n",
    "    if Found:\n",
    "        return val\n",
    "    return [-1]"
   ]
  },
  {
   "cell_type": "markdown",
   "metadata": {},
   "source": []
  },
  {
   "cell_type": "markdown",
   "metadata": {},
   "source": [
    "# Selection Sort "
   ]
  },
  {
   "cell_type": "code",
   "execution_count": 5,
   "metadata": {},
   "outputs": [
    {
     "name": "stdout",
     "output_type": "stream",
     "text": [
      "1\n",
      "2\n",
      "3\n",
      "4\n",
      "5\n"
     ]
    }
   ],
   "source": []
  },
  {
   "cell_type": "code",
   "execution_count": 13,
   "metadata": {},
   "outputs": [],
   "source": [
    "a = set([2,1,2,2,3])"
   ]
  },
  {
   "cell_type": "code",
   "execution_count": 14,
   "metadata": {},
   "outputs": [
    {
     "data": {
      "text/plain": [
       "{1, 2, 3}"
      ]
     },
     "execution_count": 14,
     "metadata": {},
     "output_type": "execute_result"
    }
   ],
   "source": [
    "a"
   ]
  },
  {
   "cell_type": "code",
   "execution_count": 27,
   "metadata": {},
   "outputs": [],
   "source": [
    "a = ''"
   ]
  },
  {
   "cell_type": "code",
   "execution_count": 30,
   "metadata": {},
   "outputs": [],
   "source": [
    "for count in range(2): \n",
    "   a = a +'9'\n",
    "    "
   ]
  },
  {
   "cell_type": "code",
   "execution_count": 31,
   "metadata": {},
   "outputs": [
    {
     "data": {
      "text/plain": [
       "'99'"
      ]
     },
     "execution_count": 31,
     "metadata": {},
     "output_type": "execute_result"
    }
   ],
   "source": [
    "a"
   ]
  },
  {
   "cell_type": "code",
   "execution_count": 38,
   "metadata": {},
   "outputs": [
    {
     "data": {
      "text/plain": [
       "{1: 'one', 2: 'two', 3: 'e'}"
      ]
     },
     "execution_count": 38,
     "metadata": {},
     "output_type": "execute_result"
    }
   ],
   "source": [
    "a = [1,2,3]\n",
    "b = ['one','two','e']\n",
    "\n",
    "\n",
    "k = dict(zip(a,b))\n",
    "k"
   ]
  },
  {
   "cell_type": "code",
   "execution_count": 41,
   "metadata": {},
   "outputs": [
    {
     "name": "stdout",
     "output_type": "stream",
     "text": [
      "two\n"
     ]
    }
   ],
   "source": [
    "if 2 in k:\n",
    "    print(k[2])"
   ]
  },
  {
   "cell_type": "code",
   "execution_count": 1,
   "metadata": {},
   "outputs": [],
   "source": [
    "import spacy"
   ]
  },
  {
   "cell_type": "code",
   "execution_count": 2,
   "metadata": {},
   "outputs": [],
   "source": [
    "nlp = spacy.load('en_core_web_trf')"
   ]
  },
  {
   "cell_type": "code",
   "execution_count": 5,
   "metadata": {},
   "outputs": [
    {
     "name": "stdout",
     "output_type": "stream",
     "text": [
      "the number of tokebs:  5\n"
     ]
    }
   ],
   "source": [
    "sentence = nlp.tokenizer('We live in Paris.')\n",
    "print('the number of tokebs: ', len(sentence))"
   ]
  },
  {
   "cell_type": "code",
   "execution_count": null,
   "metadata": {},
   "outputs": [],
   "source": [
    "pip3 install pdfkit\n"
   ]
  },
  {
   "cell_type": "code",
   "execution_count": null,
   "metadata": {},
   "outputs": [],
   "source": []
  }
 ],
 "metadata": {
  "interpreter": {
   "hash": "c4b8279b59448013ebd76a52696883cf2a850805247726501ccefac9854ffa2d"
  },
  "kernelspec": {
   "display_name": "Python 3.6.10 ('tensorflow')",
   "language": "python",
   "name": "python3"
  },
  "language_info": {
   "codemirror_mode": {
    "name": "ipython",
    "version": 3
   },
   "file_extension": ".py",
   "mimetype": "text/x-python",
   "name": "python",
   "nbconvert_exporter": "python",
   "pygments_lexer": "ipython3",
   "version": "3.6.10"
  },
  "orig_nbformat": 4
 },
 "nbformat": 4,
 "nbformat_minor": 2
}
